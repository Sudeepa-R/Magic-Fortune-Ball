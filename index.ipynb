{
 "cells": [
  {
   "cell_type": "code",
   "execution_count": 2,
   "metadata": {},
   "outputs": [
    {
     "name": "stdout",
     "output_type": "stream",
     "text": [
      "M A G I C    F O R T U N E   B A L L ,    B Y     A L     S W E i G A R T\n",
      "A S K     M E     Y O U R     Y E S / N O     Q U E S T I O N ............\n",
      "\n",
      ". . . . . . . . . . . . . . . . . . .\n",
      "Wait...!!\n",
      "\n",
      "I MIGHT TELL YOU, BUT YOU MIGHT NOT LIKE THE ANSWER...\n",
      "\n",
      "\n",
      "I     H A V E     T H E   A N S W E R  :)\n",
      "\n",
      ". . . . . \n",
      "\n",
      "YES, THOUGH YOU MAY NOT LIKE IT\n"
     ]
    }
   ],
   "source": [
    "# MAGIC FORTUNE BALL/\n",
    "\n",
    "import random,time\n",
    "\n",
    "print('M A G I C    F O R T U N E   B A L L ,    B Y     A L     S W E i G A R T')\n",
    "print('A S K     M E     Y O U R     Y E S / N O     Q U E S T I O N ............')\n",
    "input('>')\n",
    "print()\n",
    "print('. . . . . . . . . . . . . . . . . . .')\n",
    "\n",
    "# def replies():\n",
    "replies = [\n",
    " 'LET ME THINK ON THIS...',\n",
    " 'AN INTERESTING QUESTION...',\n",
    " 'HMMM... ARE YOU SURE YOU WANT TO KNOW..?',\n",
    " 'DO YOU THINK SOME THINGS ARE BEST LEFT UNKNOWN..?',\n",
    " 'I MIGHT TELL YOU, BUT YOU MIGHT NOT LIKE THE ANSWER...',\n",
    " 'YES... NO... MAYBE... I WILL THINK ON IT...',\n",
    " 'AND WHAT WILL YOU DO WHEN YOU KNOW THE ANSWER? WE SHALL SEE...',\n",
    " 'I SHALL CONSULT MY VISIONS...',\n",
    " 'YOU MAY WANT TO SIT DOWN FOR THIS...',\n",
    " ]\n",
    "\n",
    "print('Wait...!!')\n",
    "print()\n",
    "time.sleep(2)\n",
    "print(random.choice(replies))\n",
    "print( '\\n' )\n",
    "\n",
    "time.sleep(1)\n",
    "print('I     H A V E     T H E   A N S W E R  :)')\n",
    "print()\n",
    "time.sleep(1)\n",
    "print('. . . . . ')\n",
    "print()\n",
    "answers = [\n",
    " 'YES, FOR SURE',\n",
    " 'MY ANSWER IS NO',\n",
    " 'ASK ME LATER',\n",
    " 'GO STUDY , GET GOOD MARKS IN SEM EXAMS SPECIALLY IN ADP ',\n",
    " 'I AM PROGRAMMED TO SAY YES',\n",
    " 'THE STARS SAY YES, BUT I SAY NO',\n",
    " 'I DUNNO MAYBE',\n",
    " 'FOCUS AND ASK ONCE MORE',\n",
    " 'DOUBTFUL, VERY DOUBTFUL',\n",
    " 'AFFIRMATIVE',\n",
    " 'YES, THOUGH YOU MAY NOT LIKE IT',\n",
    " 'NO, BUT YOU MAY WISH IT WAS SO',\n",
    " ]\n",
    "time.sleep(2)\n",
    "print(random.choice(answers))\n",
    "\n"
   ]
  }
 ],
 "metadata": {
  "kernelspec": {
   "display_name": "Python 3.11.0 64-bit",
   "language": "python",
   "name": "python3"
  },
  "language_info": {
   "codemirror_mode": {
    "name": "ipython",
    "version": 3
   },
   "file_extension": ".py",
   "mimetype": "text/x-python",
   "name": "python",
   "nbconvert_exporter": "python",
   "pygments_lexer": "ipython3",
   "version": "3.11.0"
  },
  "orig_nbformat": 4,
  "vscode": {
   "interpreter": {
    "hash": "b98f472bb8ba48098397e3b897b5be76f7bf0e62d98845cdb0e8066dc5677259"
   }
  }
 },
 "nbformat": 4,
 "nbformat_minor": 2
}
